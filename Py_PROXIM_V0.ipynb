{
 "cells": [
  {
   "cell_type": "code",
   "execution_count": 1,
   "metadata": {},
   "outputs": [],
   "source": [
    "import numpy as np"
   ]
  },
  {
   "cell_type": "markdown",
   "metadata": {},
   "source": [
    "# Données du réseau\n",
    "\n",
    "Rd_ij : Partie réelle de l’impédance Zij du réseau (Régime Direct) vu de la ligne.\n",
    "\n",
    "Xd_ij : Partie imaginaire de l’impédance Zij du réseau (Régime Direct) vu de la ligne.\n",
    "\n",
    "Rh_ij : Partie réelle de l’impédance Zij du réseau (Régime Homopolaire) vu de la ligne.\n",
    "\n",
    "Xh_ij : Partie imaginaire de l’impédance Zij du réseau (Régime Homopolaire) vu de la ligne.\n",
    "\n",
    "Dont (i,j) $\\in$ {(1,1),(1,2), (2,1), (2,2)}\n",
    "\n",
    "donnee_225 : 1 si donnees du reperees au reseau 225kV, 0 cas écheant."
   ]
  },
  {
   "cell_type": "code",
   "execution_count": 2,
   "metadata": {},
   "outputs": [],
   "source": [
    "donnees_225 = 1 # \n",
    "Rd_11 = 62.50\n",
    "Xd_11 = 217.35\n",
    "Rd_12 = 20.54\n",
    "Xd_12 = 52.30\n",
    "Rd_22 = 2.68\n",
    "Xd_22 = 23.60\n",
    "Rh_11 = 149.11\n",
    "Xh_11 = 1040.56\n",
    "Rh_12 = 42.73\n",
    "Xh_12 = 182.40\n",
    "Rh_22 = 13.78\n",
    "Xh_22 = 188.52"
   ]
  },
  {
   "cell_type": "markdown",
   "metadata": {},
   "source": [
    "# Données de ligne\n",
    "\n",
    "Rd : Partie réelle de l’impédance Zl de ligne (Régime Direct).\n",
    "\n",
    "Xd : Partie imaginaire de l’impédance Zl de ligne (Régime Direct).\n",
    "\n",
    "Rh : Partie réelle de l’impédance Zl de ligne (Régime Homopolaire).\n",
    "\n",
    "Xh : Partie imaginaire de l’impédance Zl de ligne (Régime Homopolaire).\n",
    "\n",
    "L : Longuer de la ligne [Km]"
   ]
  },
  {
   "cell_type": "code",
   "execution_count": 3,
   "metadata": {},
   "outputs": [],
   "source": [
    "# Donnees de ligne\n",
    "Rd = 25.13\n",
    "Xd = 64.03\n",
    "Rh = 48.47\n",
    "Xh = 228.32\n",
    "L = 12.60 # Km\n"
   ]
  },
  {
   "cell_type": "markdown",
   "metadata": {},
   "source": [
    "# Données \"Generiques\"\n",
    "\n",
    "Xpyl : Position relative du support\n",
    "\n",
    "tension_code_LIT : 3 si réseau 63kV, 4 si réseau 90kV, 6 si réseau 225kV, 7 si réseau 400kV\n",
    "\n",
    "t_elim : Temps d'élimination du défaut [s]"
   ]
  },
  {
   "cell_type": "code",
   "execution_count": 4,
   "metadata": {},
   "outputs": [],
   "source": [
    "x_pyl = 0.0976 \n",
    "tension_code_LIT = 3\n",
    "t_elim = 500e-3"
   ]
  },
  {
   "cell_type": "markdown",
   "metadata": {},
   "source": [
    "# Données \"de Terre\"\n",
    "\n",
    "rho : Resistivité du terrain [$\\Omega \\cdot $m]\n",
    "\n",
    "long_empat : Longueur de l'empatement [m]\n",
    "\n",
    "larg_empat : Largeur de l'empatement [m]"
   ]
  },
  {
   "cell_type": "code",
   "execution_count": 5,
   "metadata": {},
   "outputs": [],
   "source": [
    "rho = 400 # Ohm * m\n",
    "long_empat = 2.60\n",
    "larg_empat = 2.60\n",
    "#Re = 1.67 # m"
   ]
  },
  {
   "cell_type": "markdown",
   "metadata": {},
   "source": [
    "Calcul du coefficient de redressement de tension (Si données d'impedances reperées au réseau 225kV, i.e: donnees_225 = 1)"
   ]
  },
  {
   "cell_type": "code",
   "execution_count": 6,
   "metadata": {},
   "outputs": [],
   "source": [
    "if donnees_225 == 1:\n",
    "    if tension_code_LIT == 2:\n",
    "        U = 49.0 #Reseau 45kV\n",
    "        Cr = (45.0 / 225.0)**2\n",
    "    elif tension_code_LIT == 3:\n",
    "        U = 69.0 #Reseau 63kV\n",
    "        Cr = (63.0 / 225.0)**2\n",
    "    elif tension_code_LIT == 4:\n",
    "        U = 99.0 #Reseau 90kV\n",
    "        Cr = (90.0 / 225.0)**2\n",
    "    elif tension_code_LIT == 5:\n",
    "        U = 165.0 #Reseau 150kV\n",
    "        Cr = (150.0 / 225.0)**2\n",
    "    elif tension_code_LIT == 6:\n",
    "        U = 245.0 #Reseau 225kV\n",
    "        Cr = 1.0\n",
    "    elif tension_code_LIT == 7:\n",
    "        U = 420.0 #Reseau 400kV\n",
    "        Cr = (400.0 / 225.0)**2\n",
    "else:\n",
    "    Cr = 1.0\n",
    "    if tension_code_LIT == 2:\n",
    "        U = 49.0 #Reseau 45kV\n",
    "    elif tension_code_LIT == 3:\n",
    "        U = 69.0 #Reseau 63kV\n",
    "    elif tension_code_LIT == 4:\n",
    "        U = 99.0 #Reseau 90kV\n",
    "    elif tension_code_LIT == 5:\n",
    "        U = 165.0 #Reseau 150kV\n",
    "    elif tension_code_LIT == 6:\n",
    "        U = 245.0 #Reseau 225kV\n",
    "    elif tension_code_LIT == 7:\n",
    "        U = 420.0 #Reseau 400kV"
   ]
  },
  {
   "cell_type": "markdown",
   "metadata": {},
   "source": [
    "# Calcul d'impedances en directe\n",
    "\n",
    "$$Z_d = C_r \\left[ x (1-x) (Z_{d,L}-Z_{d,12})+(Z_{d,11}-x  Z_{d,12})\\frac{(1-x)Z_{d,12}+Z_{d,22}}{Z_{d,11}+Z_{d,12}+Z_{d,22}} \\right]$$"
   ]
  },
  {
   "cell_type": "code",
   "execution_count": 7,
   "metadata": {},
   "outputs": [],
   "source": [
    "ZdL = Rd + 1j*Xd\n",
    "Zd11 = Rd_11 + 1j*Xd_11\n",
    "Zd12 = Rd_12 + 1j*Xd_12\n",
    "Zd22 = Rd_22 + 1j*Xd_22\n",
    "Zd = Cr * ( x_pyl * ( 1 - x_pyl ) * ( ZdL - Zd12 )\n",
    "           + ( Zd11 + x_pyl * Zd12 ) * ( ( ( 1.0 - x_pyl ) * Zd12 + Zd22 ) / ( Zd11\n",
    "           + Zd12 + Zd22 ) ) )"
   ]
  },
  {
   "cell_type": "markdown",
   "metadata": {},
   "source": [
    "# Calcul d'impedances en homopolaire\n",
    "\n",
    "$$Z_h = C_r \\left[ x (1-x) (Z_{h,L}-Z_{h,12})+(Z_{h,11}-x  Z_{h,12})\\frac{(1-x)Z_{h,12}+Z_{h,22}}{Z_{h,11}+Z_{h,12}+Z_{h,22}} \\right]$$"
   ]
  },
  {
   "cell_type": "code",
   "execution_count": 8,
   "metadata": {},
   "outputs": [],
   "source": [
    "ZhL = Rh + 1j*Xh\n",
    "Zh11 = Rh_11 + 1j*Xh_11\n",
    "Zh12 = Rh_12 + 1j*Xh_12\n",
    "Zh22 = Rh_22 + 1j*Xh_22\n",
    "Zh = Cr * ( x_pyl * ( 1 - x_pyl ) * ( ZhL - Zh12 )\n",
    "           + ( Zh11 + x_pyl * Zh12 ) * ( ( ( 1.0 - x_pyl ) * Zh12 + Zh22 ) / ( Zh11\n",
    "           + Zh12 + Zh22 ) ) )"
   ]
  },
  {
   "cell_type": "markdown",
   "metadata": {},
   "source": [
    "# Calcul des courants de CC\n",
    "\n",
    "$I_{T,h}$: Courant total (apport des postes 1 et poste 2) homopolaire (et égal au courant total direct) sur défaut monophasé\n",
    "\n",
    "$$ I_{T,h} = \\frac{1}{3} \\frac{\\sqrt{3} U}{2 Z_d + Z_h}$$\n",
    "\n",
    "$I_{h,A1}$: Apport de courant homopolaire coté poste A dans une configuration étoile sur un défaut monophasé phase-terre, pour une résistance de défaut nulle.\n",
    "\n",
    "$$ I_{h,A1} = I_{T,h} \\frac{Z_{h,22} + ( 1 - x ) Z_{h,12}}{Z_{h,11} + Z_{h,22} + Z_{h,12}} $$\n",
    "\n",
    "$I_{h,B1}$: Apport de courant homopolaire coté poste A dans une configuration étoile sur un défaut monophasé phase-terre, pour une résistance de défaut nulle\n",
    "\n",
    "$$ I_{h,B1} = I_{T,h} \\frac{Z_{h,11} + x Z_{h,12}}{Z_{h,11} + Z_{h,22} + Z_{h,12}} $$\n",
    "\n",
    "$I_{h,A}$: Apport de courant homopolaire coté poste A dans une configuration triangle sur un défaut monophasé phase-terre, pour une résistance de défaut nulle\n",
    "\n",
    "$$ I_{h,A} = \\frac{\\frac{Z_h I_{T,h}}{C_r} - Z_{h,11} I_{h,A1}}{x Z_{h,L}} $$\n",
    "\n",
    "$I_{h,B}$: Apport de courant homopolaire coté poste B dans une configuration triangle sur un défaut monophasé phase-terre, pour une résistance de défaut nulle\n",
    "\n",
    "$$ I_{h,B} = \\frac{\\frac{Z_h I_{T,h}}{C_r} - Z_{h,22} I_{h,B1}}{(1-x) Z_{h,L}} $$\n",
    "\n",
    "$Icc_{0,A}$ : Courant provenant du réseau coté poste A lors d’un défaut monophasé phase-terre, pour une résistance de défaut nulle (courant résiduel) \n",
    "\n",
    "$$ Icc_{0,A} = 3 \\|I_{h,A}\\| $$\n",
    "\n",
    "$Icc_{0,B}$ : Courant provenant du réseau coté poste B lors d’un défaut monophasé phase-terre, pour une résistance de défaut nulle (courant résiduel) \n",
    "\n",
    "$$ Icc_{0,B} = 3 \\|I_{h,B}\\| $$\n",
    "\n",
    "$Icc_{0,sscdg}$: Courant total provenant du réseau lors d’un défaut phase-terre, pour une résistance de défaut nulle, sans prise en compte de l’effet réducteur des câbles de garde\n",
    "\n",
    "$$ Icc_{0,sscdg} = Icc_{0,A} + Icc_{0,B} $$\n"
   ]
  },
  {
   "cell_type": "code",
   "execution_count": 9,
   "metadata": {},
   "outputs": [],
   "source": [
    "Ith = (1.0 / 3.0) * ( U * np.sqrt(3.0) / (2.0 * Zd + Zh))\n",
    "IhA1 = Ith * ( Zh22 + ( 1 - x_pyl ) * Zh12 ) / ( Zh11 + Zh22 + Zh12 )\n",
    "IhB1 = Ith * ( Zh11 + x_pyl * Zh12 ) / ( Zh11 + Zh22 + Zh12 )\n",
    "IhA = ( ( 1 / Cr ) * Zh * Ith - Zh11 * IhA1 ) / ( x_pyl * ZhL )\n",
    "IhB = ( ( 1 / Cr ) * Zh * Ith - Zh22 * IhB1 ) / ( ( 1 - x_pyl ) * ZhL )\n",
    "Icc0_A = 3*abs(IhA)\n",
    "Icc0_B = 3*abs(IhB)\n",
    "Icc0_sscdg = (Icc0_A + Icc0_B) * 1e3"
   ]
  },
  {
   "cell_type": "markdown",
   "metadata": {},
   "source": [
    "# Calcul Resistence de Prise de Terre de Pylone\n",
    "$D_g$ : demie diagonale de l'empatement [m]\n",
    "\n",
    "$$ D_g = 0.5 \\sqrt{long_{empat}^2 + larg_{empat}^2}$$\n",
    "\n",
    "$R_e$ : Rayon équivalente [m]\n",
    "\n",
    "Pour un support en ancrage 63kV/90kV avec 4 malts\n",
    "$$ R_e = 0,714 D_g + 0,36 $$\n",
    "\n",
    "$R_p$: Resistence de prise de Terre de pylone [$\\Omega$]\n",
    "\n",
    "$$ R_p = \\frac{\\rho}{2 \\pi R_e} $$"
   ]
  },
  {
   "cell_type": "code",
   "execution_count": 10,
   "metadata": {},
   "outputs": [],
   "source": [
    "dg = 0.5 * np.sqrt(long_empat**2 + larg_empat**2)\n",
    "# Re = 0.632 * dg + 0.4\n",
    "Re = 0.714 * dg + 0.36 #support ancrage\n",
    "Rp = rho / (2.0 * np.pi * Re)"
   ]
  },
  {
   "cell_type": "markdown",
   "metadata": {},
   "source": [
    "# Calcul tension de support\n",
    "\n",
    "$Kr_A$ et $Kr_B$ :Coefficients réducteur du câble de garde coté poste A et B respectivement\n",
    "\n",
    "$ \\| Icc_0 \\| $: Courant total provenant du réseau lors d’un défaut phase-terre, pour une résistance de défaut nulle.\n",
    "\n",
    "$$ \\| Icc_0 \\| = \\| Icc_{0,A} \\| Kr_A + \\| Icc_{0,A} \\| Kr_B $$\n",
    "\n",
    "$Z_t$ : Impédance totale prenant en compte la prise de terre du pylône et les impédances des câbles de gardes encadrant  \n",
    "\n",
    "$$ Z_t = \\frac{R_p Z_{cdg,A} Z_{cdg,B}}{R_p Z_{cdg,A} + R_p Z_{cdg,B} + Z_{cdg,A} Z_{cdg,B}} $$\n",
    "\n",
    "$V_{pyl}$ Montée en potentiel du pylône lors d’un défaut monophasé phase-terre, en prenant en compte la résistance du support\n",
    "\n",
    "$$ V_{pyl} = \\frac{U}{\\sqrt{3}}\\frac{1}{\\sqrt{1+\\frac{U^2}{3 \\| Zt \\|^2 \\| Icc_0 \\| ^2}}}$$\n"
   ]
  },
  {
   "cell_type": "code",
   "execution_count": 11,
   "metadata": {},
   "outputs": [],
   "source": [
    "Kr_A = 1.0 # Pour l'instant, pas d'effet du CdG\n",
    "Kr_B = 1.0 # Pour l'instant, pas d'effet du CdG\n",
    "Icc0 = Icc0_A * Kr_A + Icc0_B * Kr_B\n",
    "Zcdg_A = 9999999999 # Pour l'instant, pas d'effet du CdG\n",
    "Zcdg_B = 9999999999 # Pour l'instant, pas d'effet du CdG\n",
    "Zt = (Rp * Zcdg_A * Zcdg_B) / (Rp * Zcdg_A + Rp * Zcdg_B + Zcdg_A * Zcdg_B)\n",
    "Vpyl = ( U / np.sqrt(3) ) / np.sqrt( 1 + ( U**2 / (3*np.abs(Zt)**2 * np.abs(Icc0)**2)))"
   ]
  },
  {
   "cell_type": "markdown",
   "metadata": {},
   "source": [
    "Pour V $in$ $\\{ 650, 1500, 5000 \\}$:\n",
    "\n",
    "$D_{lim, V}$ : Rayon de la zone circulaire, centrée sur le pylône,  pour laquelle la montée en potentielle dépasse V lors d’un défaut.\n",
    "\n",
    "$$ D_{lim, V} = \\frac{R_e V_{pyl}}{V} $$\n"
   ]
  },
  {
   "cell_type": "code",
   "execution_count": 12,
   "metadata": {},
   "outputs": [],
   "source": [
    "dlim_5000 = (Re * Vpyl * 1000 )/ (5000.0)\n",
    "dlim_1500 = (Re * Vpyl * 1000 )/ (1500.0)\n",
    "dlim_650 = (Re * Vpyl * 1000 )/ (650.0)"
   ]
  },
  {
   "cell_type": "code",
   "execution_count": 13,
   "metadata": {},
   "outputs": [
    {
     "name": "stdout",
     "output_type": "stream",
     "text": [
      "|IhA1| = 0.330\n",
      "|IhB1| = 0.989\n",
      "|Icc0| = 3.959\n",
      "Rp = 38.060\n",
      "|Zt| = 38.060\n",
      "|Vp| = 38.514\n",
      "Dlim_5000m = 12.884\n",
      "Dlim_1500m = 42.947\n",
      "Dlim_650m = 99.109\n"
     ]
    }
   ],
   "source": [
    "print(\"|IhA1| = {:.3f}\".format(abs(IhA1)))\n",
    "print(\"|IhB1| = {:.3f}\".format(abs(IhB1)))\n",
    "print(\"|Icc0| = {:.3f}\".format(abs(Icc0)))\n",
    "print(\"Rp = {:.3f}\".format(Rp))\n",
    "print(\"|Zt| = {:.3f}\".format(abs(Zt)))\n",
    "print(\"|Vp| = {:.3f}\".format(abs(Vpyl)))\n",
    "print(\"Dlim_5000m = {:.3f}\".format(dlim_5000))\n",
    "print(\"Dlim_1500m = {:.3f}\".format(dlim_1500))\n",
    "print(\"Dlim_650m = {:.3f}\".format(dlim_650))"
   ]
  }
 ],
 "metadata": {
  "kernelspec": {
   "display_name": "Python 3",
   "language": "python",
   "name": "python3"
  },
  "language_info": {
   "codemirror_mode": {
    "name": "ipython",
    "version": 3
   },
   "file_extension": ".py",
   "mimetype": "text/x-python",
   "name": "python",
   "nbconvert_exporter": "python",
   "pygments_lexer": "ipython3",
   "version": "3.7.7"
  }
 },
 "nbformat": 4,
 "nbformat_minor": 4
}
